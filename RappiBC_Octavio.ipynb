{
 "cells": [
  {
   "cell_type": "markdown",
   "metadata": {},
   "source": [
    "# BUSINESS INTELLIGENCE / BUSINESS ANALYST, LEAD\n",
    "\n",
    "---------------\n",
    "## Instructions\n",
    "---------------\n",
    "\n",
    "Download the attached .csv file. Preferably upload it to a SQL db and query your way through the challenge. YOUR TASK IS TO exploit the information contained in the aforementioned file as you find fit. Some things to take into consideration:\n",
    "This database contains credit card information and transactions from multiple customers. Use your favorite data visualization tool / programming language to explore the data and present the results (R, Python, PowerBI, Spotfire, etc…). \n",
    "\n",
    "-------------------------\n",
    "## Data Dictionary\n",
    "-------------------------\n",
    "\n",
    "The database has the following architecture:\n",
    "\n",
    "**ID**: This is the user’s unique identifier.\n",
    "    \n",
    "**UPDATE**: Date when the event happened.\n",
    "    \n",
    "**STATUS**: The event, which can take the following values:\n",
    "- EMPTY - The user did not respond to the communication OR there was a transaction (this is reflected in the TXN column).\n",
    "- RESPONSE – The customer responded to the MKT campaign.\n",
    "- RISK – The customer was checked on the risk model whether the customer is fit to get a credit or not. \n",
    "- REJECTED – The risk model determined the customer is not fit to get a credit. \n",
    "- APPROVED – The risk model determined the customer as fit to get a credit. The customer is granted a credit. Here some of the other columns are populated.\n",
    "- DELIVERED – The customer received a physical credit card.\n",
    "\n",
    "**MOTIVE**: The reason of rejection OR the type of card. \n",
    "    \n",
    "**INTEREST RATE**: The interest rate of the customer’s credit card.\n",
    "    \n",
    "**AMOUNT**: The amount of the credit granted to the customer.\n",
    "    \n",
    "**CAT**: The annual cost of the credit granted to the customer.\n",
    "    \n",
    "**TXN**: The amount of each transaction for each customer. \n",
    "    \n",
    "**CP**: Zip Code where the physical credit card was delivered to.\n",
    "    \n",
    "**DELIVERY_SCORE**: A score the customer gives to the delivery company for the delivery service. "
   ]
  },
  {
   "cell_type": "markdown",
   "metadata": {},
   "source": [
    "## Import the necessary libraries"
   ]
  },
  {
   "cell_type": "code",
   "execution_count": 1,
   "metadata": {},
   "outputs": [],
   "source": [
    "import numpy as np\n",
    "import pandas as pd\n",
    "\n",
    "import seaborn as sns\n",
    "import matplotlib.pyplot as plt\n",
    "%matplotlib inline"
   ]
  },
  {
   "cell_type": "markdown",
   "metadata": {},
   "source": [
    "## Read dataset"
   ]
  },
  {
   "cell_type": "code",
   "execution_count": 2,
   "metadata": {},
   "outputs": [],
   "source": [
    "rappi=pd.read_csv(\"BusinessBIBA_Challenge.csv\")"
   ]
  },
  {
   "cell_type": "markdown",
   "metadata": {},
   "source": [
    "## Exploring the dataset"
   ]
  },
  {
   "cell_type": "markdown",
   "metadata": {},
   "source": [
    "#### head of data"
   ]
  },
  {
   "cell_type": "code",
   "execution_count": 5,
   "metadata": {
    "scrolled": false
   },
   "outputs": [
    {
     "data": {
      "text/html": [
       "<div>\n",
       "<style scoped>\n",
       "    .dataframe tbody tr th:only-of-type {\n",
       "        vertical-align: middle;\n",
       "    }\n",
       "\n",
       "    .dataframe tbody tr th {\n",
       "        vertical-align: top;\n",
       "    }\n",
       "\n",
       "    .dataframe thead th {\n",
       "        text-align: right;\n",
       "    }\n",
       "</style>\n",
       "<table border=\"1\" class=\"dataframe\">\n",
       "  <thead>\n",
       "    <tr style=\"text-align: right;\">\n",
       "      <th></th>\n",
       "      <th>Unnamed: 0</th>\n",
       "      <th>ID</th>\n",
       "      <th>UPDATE</th>\n",
       "      <th>STATUS</th>\n",
       "      <th>MOTIVE</th>\n",
       "      <th>INTEREST_RATE</th>\n",
       "      <th>AMOUNT</th>\n",
       "      <th>CAT</th>\n",
       "      <th>TXN</th>\n",
       "      <th>CP</th>\n",
       "      <th>DELIVERY_SCORE</th>\n",
       "    </tr>\n",
       "  </thead>\n",
       "  <tbody>\n",
       "    <tr>\n",
       "      <th>0</th>\n",
       "      <td>0</td>\n",
       "      <td>1</td>\n",
       "      <td>59:50.4</td>\n",
       "      <td>RESPONSE</td>\n",
       "      <td>NaN</td>\n",
       "      <td>NaN</td>\n",
       "      <td>NaN</td>\n",
       "      <td>NaN</td>\n",
       "      <td>NaN</td>\n",
       "      <td>NaN</td>\n",
       "      <td>NaN</td>\n",
       "    </tr>\n",
       "    <tr>\n",
       "      <th>1</th>\n",
       "      <td>1</td>\n",
       "      <td>1</td>\n",
       "      <td>46:41.4</td>\n",
       "      <td>RISK</td>\n",
       "      <td>NaN</td>\n",
       "      <td>NaN</td>\n",
       "      <td>NaN</td>\n",
       "      <td>NaN</td>\n",
       "      <td>NaN</td>\n",
       "      <td>NaN</td>\n",
       "      <td>NaN</td>\n",
       "    </tr>\n",
       "    <tr>\n",
       "      <th>2</th>\n",
       "      <td>2</td>\n",
       "      <td>1</td>\n",
       "      <td>14:50.5</td>\n",
       "      <td>APPROVED</td>\n",
       "      <td>DIGITAL</td>\n",
       "      <td>40.0</td>\n",
       "      <td>1300.0</td>\n",
       "      <td>49.0</td>\n",
       "      <td>NaN</td>\n",
       "      <td>NaN</td>\n",
       "      <td>NaN</td>\n",
       "    </tr>\n",
       "    <tr>\n",
       "      <th>3</th>\n",
       "      <td>3</td>\n",
       "      <td>1</td>\n",
       "      <td>08:23.4</td>\n",
       "      <td>NaN</td>\n",
       "      <td>NaN</td>\n",
       "      <td>NaN</td>\n",
       "      <td>NaN</td>\n",
       "      <td>NaN</td>\n",
       "      <td>434.112066</td>\n",
       "      <td>NaN</td>\n",
       "      <td>NaN</td>\n",
       "    </tr>\n",
       "    <tr>\n",
       "      <th>4</th>\n",
       "      <td>4</td>\n",
       "      <td>2</td>\n",
       "      <td>00:00.0</td>\n",
       "      <td>NaN</td>\n",
       "      <td>NaN</td>\n",
       "      <td>NaN</td>\n",
       "      <td>NaN</td>\n",
       "      <td>NaN</td>\n",
       "      <td>NaN</td>\n",
       "      <td>NaN</td>\n",
       "      <td>NaN</td>\n",
       "    </tr>\n",
       "  </tbody>\n",
       "</table>\n",
       "</div>"
      ],
      "text/plain": [
       "   Unnamed: 0  ID   UPDATE    STATUS   MOTIVE  INTEREST_RATE  AMOUNT   CAT  \\\n",
       "0           0   1  59:50.4  RESPONSE      NaN            NaN     NaN   NaN   \n",
       "1           1   1  46:41.4      RISK      NaN            NaN     NaN   NaN   \n",
       "2           2   1  14:50.5  APPROVED  DIGITAL           40.0  1300.0  49.0   \n",
       "3           3   1  08:23.4       NaN      NaN            NaN     NaN   NaN   \n",
       "4           4   2  00:00.0       NaN      NaN            NaN     NaN   NaN   \n",
       "\n",
       "          TXN  CP  DELIVERY_SCORE  \n",
       "0         NaN NaN             NaN  \n",
       "1         NaN NaN             NaN  \n",
       "2         NaN NaN             NaN  \n",
       "3  434.112066 NaN             NaN  \n",
       "4         NaN NaN             NaN  "
      ]
     },
     "execution_count": 5,
     "metadata": {},
     "output_type": "execute_result"
    }
   ],
   "source": [
    "rappi.head()"
   ]
  },
  {
   "cell_type": "markdown",
   "metadata": {},
   "source": [
    "#### General information of the data"
   ]
  },
  {
   "cell_type": "code",
   "execution_count": 6,
   "metadata": {},
   "outputs": [
    {
     "name": "stdout",
     "output_type": "stream",
     "text": [
      "<class 'pandas.core.frame.DataFrame'>\n",
      "RangeIndex: 12756 entries, 0 to 12755\n",
      "Data columns (total 11 columns):\n",
      " #   Column          Non-Null Count  Dtype  \n",
      "---  ------          --------------  -----  \n",
      " 0   Unnamed: 0      12756 non-null  int64  \n",
      " 1   ID              12756 non-null  int64  \n",
      " 2   UPDATE          12756 non-null  object \n",
      " 3   STATUS          7940 non-null   object \n",
      " 4   MOTIVE          2298 non-null   object \n",
      " 5   INTEREST_RATE   1505 non-null   float64\n",
      " 6   AMOUNT          1505 non-null   float64\n",
      " 7   CAT             1505 non-null   float64\n",
      " 8   TXN             3773 non-null   float64\n",
      " 9   CP              1046 non-null   float64\n",
      " 10  DELIVERY_SCORE  1046 non-null   float64\n",
      "dtypes: float64(6), int64(2), object(3)\n",
      "memory usage: 1.1+ MB\n"
     ]
    }
   ],
   "source": [
    "rappi.info()"
   ]
  },
  {
   "cell_type": "markdown",
   "metadata": {},
   "source": [
    "- Here we can see that the dataset have **11 columns and most of them are numbers (int or float)**. The columns that are object, store the status of the MKT strategy."
   ]
  },
  {
   "cell_type": "code",
   "execution_count": 7,
   "metadata": {},
   "outputs": [
    {
     "data": {
      "text/plain": [
       "True"
      ]
     },
     "execution_count": 7,
     "metadata": {},
     "output_type": "execute_result"
    }
   ],
   "source": [
    "rappi.isnull().values.any()"
   ]
  },
  {
   "cell_type": "markdown",
   "metadata": {},
   "source": [
    "- As we saw in the head of the data there are some columns with missing valuesm, but is ok because the database is designed to be that way (not all users got by the MKT strategy and not all made transactions)"
   ]
  },
  {
   "cell_type": "markdown",
   "metadata": {},
   "source": [
    "#### Summary statistics for the numerical variables"
   ]
  },
  {
   "cell_type": "code",
   "execution_count": 9,
   "metadata": {},
   "outputs": [
    {
     "data": {
      "text/html": [
       "<div>\n",
       "<style scoped>\n",
       "    .dataframe tbody tr th:only-of-type {\n",
       "        vertical-align: middle;\n",
       "    }\n",
       "\n",
       "    .dataframe tbody tr th {\n",
       "        vertical-align: top;\n",
       "    }\n",
       "\n",
       "    .dataframe thead th {\n",
       "        text-align: right;\n",
       "    }\n",
       "</style>\n",
       "<table border=\"1\" class=\"dataframe\">\n",
       "  <thead>\n",
       "    <tr style=\"text-align: right;\">\n",
       "      <th></th>\n",
       "      <th>Unnamed: 0</th>\n",
       "      <th>ID</th>\n",
       "      <th>INTEREST_RATE</th>\n",
       "      <th>AMOUNT</th>\n",
       "      <th>CAT</th>\n",
       "      <th>TXN</th>\n",
       "      <th>CP</th>\n",
       "      <th>DELIVERY_SCORE</th>\n",
       "    </tr>\n",
       "  </thead>\n",
       "  <tbody>\n",
       "    <tr>\n",
       "      <th>count</th>\n",
       "      <td>12756.000000</td>\n",
       "      <td>12756.000000</td>\n",
       "      <td>1505.000000</td>\n",
       "      <td>1505.000000</td>\n",
       "      <td>1505.000000</td>\n",
       "      <td>3773.000000</td>\n",
       "      <td>1046.000000</td>\n",
       "      <td>1046.000000</td>\n",
       "    </tr>\n",
       "    <tr>\n",
       "      <th>mean</th>\n",
       "      <td>6377.500000</td>\n",
       "      <td>2516.923330</td>\n",
       "      <td>39.695681</td>\n",
       "      <td>14479.800664</td>\n",
       "      <td>39.663787</td>\n",
       "      <td>2009.774234</td>\n",
       "      <td>42298.432122</td>\n",
       "      <td>1.964627</td>\n",
       "    </tr>\n",
       "    <tr>\n",
       "      <th>std</th>\n",
       "      <td>3682.484352</td>\n",
       "      <td>1465.606943</td>\n",
       "      <td>5.924762</td>\n",
       "      <td>14520.262941</td>\n",
       "      <td>5.751843</td>\n",
       "      <td>10034.936766</td>\n",
       "      <td>16757.547428</td>\n",
       "      <td>1.116938</td>\n",
       "    </tr>\n",
       "    <tr>\n",
       "      <th>min</th>\n",
       "      <td>0.000000</td>\n",
       "      <td>1.000000</td>\n",
       "      <td>30.000000</td>\n",
       "      <td>0.000000</td>\n",
       "      <td>30.000000</td>\n",
       "      <td>0.342075</td>\n",
       "      <td>11560.000000</td>\n",
       "      <td>0.000000</td>\n",
       "    </tr>\n",
       "    <tr>\n",
       "      <th>25%</th>\n",
       "      <td>3188.750000</td>\n",
       "      <td>1204.000000</td>\n",
       "      <td>35.000000</td>\n",
       "      <td>3800.000000</td>\n",
       "      <td>35.000000</td>\n",
       "      <td>67.888982</td>\n",
       "      <td>44100.000000</td>\n",
       "      <td>1.000000</td>\n",
       "    </tr>\n",
       "    <tr>\n",
       "      <th>50%</th>\n",
       "      <td>6377.500000</td>\n",
       "      <td>2571.000000</td>\n",
       "      <td>40.000000</td>\n",
       "      <td>9800.000000</td>\n",
       "      <td>40.000000</td>\n",
       "      <td>265.086727</td>\n",
       "      <td>44620.000000</td>\n",
       "      <td>2.000000</td>\n",
       "    </tr>\n",
       "    <tr>\n",
       "      <th>75%</th>\n",
       "      <td>9566.250000</td>\n",
       "      <td>3801.000000</td>\n",
       "      <td>45.000000</td>\n",
       "      <td>20100.000000</td>\n",
       "      <td>45.000000</td>\n",
       "      <td>1061.080947</td>\n",
       "      <td>53100.000000</td>\n",
       "      <td>3.000000</td>\n",
       "    </tr>\n",
       "    <tr>\n",
       "      <th>max</th>\n",
       "      <td>12755.000000</td>\n",
       "      <td>4999.000000</td>\n",
       "      <td>49.000000</td>\n",
       "      <td>108300.000000</td>\n",
       "      <td>49.000000</td>\n",
       "      <td>412498.523200</td>\n",
       "      <td>64000.000000</td>\n",
       "      <td>5.000000</td>\n",
       "    </tr>\n",
       "  </tbody>\n",
       "</table>\n",
       "</div>"
      ],
      "text/plain": [
       "         Unnamed: 0            ID  INTEREST_RATE         AMOUNT          CAT  \\\n",
       "count  12756.000000  12756.000000    1505.000000    1505.000000  1505.000000   \n",
       "mean    6377.500000   2516.923330      39.695681   14479.800664    39.663787   \n",
       "std     3682.484352   1465.606943       5.924762   14520.262941     5.751843   \n",
       "min        0.000000      1.000000      30.000000       0.000000    30.000000   \n",
       "25%     3188.750000   1204.000000      35.000000    3800.000000    35.000000   \n",
       "50%     6377.500000   2571.000000      40.000000    9800.000000    40.000000   \n",
       "75%     9566.250000   3801.000000      45.000000   20100.000000    45.000000   \n",
       "max    12755.000000   4999.000000      49.000000  108300.000000    49.000000   \n",
       "\n",
       "                 TXN            CP  DELIVERY_SCORE  \n",
       "count    3773.000000   1046.000000     1046.000000  \n",
       "mean     2009.774234  42298.432122        1.964627  \n",
       "std     10034.936766  16757.547428        1.116938  \n",
       "min         0.342075  11560.000000        0.000000  \n",
       "25%        67.888982  44100.000000        1.000000  \n",
       "50%       265.086727  44620.000000        2.000000  \n",
       "75%      1061.080947  53100.000000        3.000000  \n",
       "max    412498.523200  64000.000000        5.000000  "
      ]
     },
     "execution_count": 9,
     "metadata": {},
     "output_type": "execute_result"
    }
   ],
   "source": [
    "rappi.describe()"
   ]
  },
  {
   "cell_type": "markdown",
   "metadata": {},
   "source": [
    "#### - We have 12,756 rows, but we need to be careful some IDs are repeated and that means the user goes in different stages.\n",
    "- For the 1,505 rows we have data, the mean `interest rate= 39.70%` and the max one is `interest rate= 49,0%`\n",
    "- For the 1,505 rows we have data, the mean `amount granted= 14,480 mxn` and the max one is `amount granted= 108,300 mxn`\n",
    "- For the 3,773 rows we have data, the mean `spend= 2,010 mxn` and the max one is `spend= 412,499 mxn`\n",
    "- These are some interesting findings that can help us to improve our credit card product, the interest rate is not so high and we grant a considerable amount of credit. Also the users spend a good amount of money."
   ]
  },
  {
   "cell_type": "markdown",
   "metadata": {},
   "source": [
    "#### Finding unique users in the data set"
   ]
  },
  {
   "cell_type": "code",
   "execution_count": 12,
   "metadata": {},
   "outputs": [
    {
     "data": {
      "text/plain": [
       "3341"
      ]
     },
     "execution_count": 12,
     "metadata": {},
     "output_type": "execute_result"
    }
   ],
   "source": [
    "rappi['ID'].nunique()"
   ]
  },
  {
   "cell_type": "markdown",
   "metadata": {},
   "source": [
    "- As we said in previous lines, **there are 12,756 rows of information, but only 3,341 unique users.**"
   ]
  },
  {
   "cell_type": "markdown",
   "metadata": {},
   "source": [
    "#### Users with more than one interaction (TXN)"
   ]
  },
  {
   "cell_type": "code",
   "execution_count": 26,
   "metadata": {},
   "outputs": [
    {
     "data": {
      "text/html": [
       "<div>\n",
       "<style scoped>\n",
       "    .dataframe tbody tr th:only-of-type {\n",
       "        vertical-align: middle;\n",
       "    }\n",
       "\n",
       "    .dataframe tbody tr th {\n",
       "        vertical-align: top;\n",
       "    }\n",
       "\n",
       "    .dataframe thead th {\n",
       "        text-align: right;\n",
       "    }\n",
       "</style>\n",
       "<table border=\"1\" class=\"dataframe\">\n",
       "  <thead>\n",
       "    <tr style=\"text-align: right;\">\n",
       "      <th></th>\n",
       "      <th></th>\n",
       "    </tr>\n",
       "    <tr>\n",
       "      <th>ID</th>\n",
       "      <th>TXN</th>\n",
       "    </tr>\n",
       "  </thead>\n",
       "  <tbody>\n",
       "    <tr>\n",
       "      <th>1</th>\n",
       "      <th>434.112066</th>\n",
       "    </tr>\n",
       "    <tr>\n",
       "      <th rowspan=\"4\" valign=\"top\">4</th>\n",
       "      <th>175.061765</th>\n",
       "    </tr>\n",
       "    <tr>\n",
       "      <th>360.504173</th>\n",
       "    </tr>\n",
       "    <tr>\n",
       "      <th>1171.027491</th>\n",
       "    </tr>\n",
       "    <tr>\n",
       "      <th>3719.618354</th>\n",
       "    </tr>\n",
       "    <tr>\n",
       "      <th>...</th>\n",
       "      <th>...</th>\n",
       "    </tr>\n",
       "    <tr>\n",
       "      <th rowspan=\"5\" valign=\"top\">4999</th>\n",
       "      <th>31.104808</th>\n",
       "    </tr>\n",
       "    <tr>\n",
       "      <th>74.732791</th>\n",
       "    </tr>\n",
       "    <tr>\n",
       "      <th>79.866598</th>\n",
       "    </tr>\n",
       "    <tr>\n",
       "      <th>124.606009</th>\n",
       "    </tr>\n",
       "    <tr>\n",
       "      <th>35774.172720</th>\n",
       "    </tr>\n",
       "  </tbody>\n",
       "</table>\n",
       "<p>3773 rows × 0 columns</p>\n",
       "</div>"
      ],
      "text/plain": [
       "Empty DataFrame\n",
       "Columns: []\n",
       "Index: [(1, 434.1120658), (4, 175.0617647), (4, 360.5041733), (4, 1171.027491), (4, 3719.6183539999997), (11, 45.01147306), (11, 401.91733589999996), (11, 911.9787299000001), (11, 2201.975645), (11, 2691.108286), (17, 28.17714529), (17, 123.8627528), (18, 1131.122678), (20, 18.24583376), (20, 261.9489261), (28, 107.42735829999998), (28, 288.9045753), (31, 30.66072102), (31, 239.9107554), (33, 189.50278500000002), (35, 83.7901251), (35, 96.61347961), (35, 119.3415642), (35, 711.5427222), (35, 827.8906726), (37, 1529.738176), (47, 51.24002299), (49, 594.7261333), (51, 54.19228183), (51, 259.65058309999995), (51, 290.26858210000006), (51, 377.7184525), (51, 534.6157337000001), (53, 77.98098017), (53, 118.44842279999999), (53, 1410.012808), (58, 26.51169819), (58, 35.95594841), (58, 217.3354449), (58, 279.4775294), (59, 575.3818641), (59, 640.7733107999999), (59, 999.1450206000001), (60, 163.5850142), (60, 7959.955537000001), (62, 99.20259856), (62, 126.6828149), (62, 137.3731216), (62, 1054.384175), (64, 373.2864394), (64, 16404.2983), (64, 23157.11791), (65, 35.11541157), (65, 780.6038431), (69, 117.12752749999999), (69, 244.3767827), (69, 558.3251414), (72, 3358.294171), (76, 56.20647139), (77, 18.383233399999998), (77, 81.21768078), (77, 533.3906621), (77, 9461.727153), (79, 2.800887013), (79, 44.99856153), (79, 57.08818007), (79, 4106.537792), (88, 507.35626270000006), (89, 46.09894062), (89, 138.82265049999998), (89, 149.74485819999998), (89, 1355.411819), (89, 1682.415673), (94, 56.89397721), (94, 78.58900052), (94, 772.8277326), (94, 1667.1416390000002), (94, 3797.1491909999995), (99, 125.38536599999999), (99, 459.66389680000003), (99, 7135.489459), (101, 233.34934449999997), (101, 364.6460484), (101, 17477.80799), (104, 20.27548845), (104, 153.8435124), (104, 373.5732293), (115, 1.518921496), (115, 2.532160501), (115, 13.87603499), (115, 356.71063119999997), (115, 1657.53747), (117, 8.981292161), (117, 351.9476371), (117, 6798.163805), (118, 27.65909111), (118, 130.7528602), (118, 196.357069), (118, 257.6856617), (118, 1485.22815), ...]\n",
       "\n",
       "[3773 rows x 0 columns]"
      ]
     },
     "execution_count": 26,
     "metadata": {},
     "output_type": "execute_result"
    }
   ],
   "source": [
    "rappi.groupby(['ID', 'TXN']).count().drop(rappi.columns[[0,2,3,4,5,6,7,9,10]], axis=1)"
   ]
  },
  {
   "cell_type": "markdown",
   "metadata": {},
   "source": [
    "- Here we can see that there are users that have made more than just one transaction, like the 4,999."
   ]
  },
  {
   "cell_type": "code",
   "execution_count": 32,
   "metadata": {},
   "outputs": [
    {
     "data": {
      "text/plain": [
       "ID\n",
       "1       1\n",
       "2       0\n",
       "3       0\n",
       "4       4\n",
       "5       0\n",
       "       ..\n",
       "4993    0\n",
       "4996    0\n",
       "4997    0\n",
       "4998    4\n",
       "4999    5\n",
       "Name: TXN, Length: 3341, dtype: int64"
      ]
     },
     "execution_count": 32,
     "metadata": {},
     "output_type": "execute_result"
    }
   ],
   "source": [
    "count_interactions = rappi.groupby('ID').count()['TXN']\n",
    "count_interactions"
   ]
  },
  {
   "cell_type": "code",
   "execution_count": 33,
   "metadata": {},
   "outputs": [
    {
     "data": {
      "image/png": "[encoded data removed]",
      "text/plain": [
       "<Figure size 1080x504 with 1 Axes>"
      ]
     },
     "metadata": {
      "needs_background": "light"
     },
     "output_type": "display_data"
    }
   ],
   "source": [
    "plt.figure(figsize=(15,7))\n",
    "\n",
    "sns.histplot(count_interactions)\n",
    "\n",
    "plt.xlabel('Number of Interactions by Users')\n",
    "\n",
    "plt.show()"
   ]
  },
  {
   "cell_type": "markdown",
   "metadata": {},
   "source": [
    "- Here we see the same but in a graph. most of them have 0 interactions, but there is an important number of users with more than 2 interactions or transactions."
   ]
  },
  {
   "cell_type": "markdown",
   "metadata": {},
   "source": [
    "## Relevant columns using KPIs proposed"
   ]
  },
  {
   "cell_type": "markdown",
   "metadata": {},
   "source": [
    "- Now that we explored fast the dataset, we still have some categorical variables that have very relevant information, **like the column STATUS**. Let´s see some counts and plots."
   ]
  },
  {
   "cell_type": "code",
   "execution_count": 29,
   "metadata": {},
   "outputs": [
    {
     "data": {
      "text/plain": [
       "RISK         2298\n",
       "RESPONSE     2298\n",
       "APPROVED     1505\n",
       "DELIVERED    1046\n",
       "REJECTED      793\n",
       "Name: STATUS, dtype: int64"
      ]
     },
     "execution_count": 29,
     "metadata": {},
     "output_type": "execute_result"
    }
   ],
   "source": [
    "rappi['STATUS'].value_counts()"
   ]
  },
  {
   "cell_type": "code",
   "execution_count": 31,
   "metadata": {},
   "outputs": [
    {
     "data": {
      "image/png": "[encoded data removed]",
      "text/plain": [
       "<Figure size 720x432 with 1 Axes>"
      ]
     },
     "metadata": {
      "needs_background": "light"
     },
     "output_type": "display_data"
    }
   ],
   "source": [
    "plt.figure(figsize=(10,6))\n",
    "\n",
    "sns.countplot(x=rappi['STATUS'])\n",
    "\n",
    "plt.title('Event')\n",
    "\n",
    "plt.xlabel('Type of event')\n",
    "\n",
    "plt.ylabel('Frequency')\n",
    "\n",
    "plt.show()"
   ]
  },
  {
   "cell_type": "markdown",
   "metadata": {},
   "source": [
    "- Here we can see that the status of Response and Risk have the same number of observations, that means that our data base is complete, **because all the users that react to the MKT camp. were risk evaluated.**\n",
    "- Now in the case of the approved and rejected users we need to understand that those are subsets of the Response category, if we sum the values `( APPROVED=1,505 + REJECTED= 793 = 2,298)`. Again the information we have good quality.\n",
    "- The delivered status is a subset of the approved one, since it have lower value we can say that not all the cards are delivered.\n",
    "- Also we know now the total of users and the ones who interacted with the MKT campaign. `( RESPONSE = 2,298 and Total ID = 3,341; so we have 1,043 users that didnt participated).`\n",
    "- **With this information we can calculate the KPIs proposed in the word document, we have all we need.**"
   ]
  },
  {
   "cell_type": "markdown",
   "metadata": {},
   "source": [
    "## KPIs calculation"
   ]
  },
  {
   "cell_type": "markdown",
   "metadata": {},
   "source": [
    "### Response rate \n",
    "= $\\text{# of users that started validation process }$  $\\div$   $\\text{# of total users who received the notification }$\n",
    "\n",
    "=$\\frac{2,298}{3,341} $ $\\times 100 $   = $\\text 68.78$ $\\%  $"
   ]
  },
  {
   "cell_type": "markdown",
   "metadata": {},
   "source": [
    "### New cardholders rate \n",
    "= $\\text{# of users that approved validation process }$  $\\div$   $\\text{# of users that started validation process }$\n",
    "\n",
    "=$\\frac{1,505}{2,298}$ $\\times 100 $  = $\\text 65.49$ $\\%  $"
   ]
  },
  {
   "cell_type": "markdown",
   "metadata": {},
   "source": [
    "### Rejection rate\n",
    "= $\\text{# of users that failed validation process }$  $\\div$   $\\text{# of users that started validation process }$\n",
    "\n",
    "=$\\frac{793}{2,298}$ $\\times 100 $  = $\\text 34.51$ $\\%  $"
   ]
  },
  {
   "cell_type": "markdown",
   "metadata": {},
   "source": [
    "## Recommendations"
   ]
  },
  {
   "cell_type": "markdown",
   "metadata": {},
   "source": [
    "- I reviewed some sources on the web and i found that the average response rate is more less 40%, and the app surveys and adds have the lowest response rate (~13%, information of Surveyanyplace), and also if we compare our rates with the percentage of electoral participation in Mexico (52.7%) we can say that the MKT strategy is performing very good, but also we know that we can always get better.\n",
    "- For the response rate i will try to look at more variables, maybe the time the user received the message; if that user made some recent interactions, it could be possible that the user dont care about us; and more sociodemographic variables to try to perform some cluster analysis.\n",
    "- Respect to the New cardholders rate and rejectio rate, these are complements if we can get up one or get down the other we can get more users with credit cards, but i think is a better approach  analize the group of users that cant pass the risk evaluation, all the information we can get from them can be used to make modifications to the existent conditions of the credit card and help them get it."
   ]
  },
  {
   "cell_type": "markdown",
   "metadata": {},
   "source": [
    "## Thanks for your time, hope to see ya all soon!"
   ]
  }
 ],
 "metadata": {
  "kernelspec": {
   "display_name": "Python 3",
   "language": "python",
   "name": "python3"
  },
  "language_info": {
   "codemirror_mode": {
    "name": "ipython",
    "version": 3
   },
   "file_extension": ".py",
   "mimetype": "text/x-python",
   "name": "python",
   "nbconvert_exporter": "python",
   "pygments_lexer": "ipython3",
   "version": "3.8.5"
  }
 },
 "nbformat": 4,
 "nbformat_minor": 4
}
